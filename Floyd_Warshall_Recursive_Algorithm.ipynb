{
 "cells": [
  {
   "cell_type": "markdown",
   "id": "030f2adf",
   "metadata": {},
   "source": [
    "# Floyd Warshall Algorithm"
   ]
  },
  {
   "cell_type": "code",
   "execution_count": 1,
   "id": "4e4b6c80",
   "metadata": {},
   "outputs": [],
   "source": [
    "# Please refer to the 'Recursive Implementation of the Floyd Warshall Algorithm' Word document for\n",
    "# comprehensive description of how this application has been developed.\n",
    "\n",
    "# The following code has been produced in accordance with PEP-8 standards."
   ]
  },
  {
   "cell_type": "code",
   "execution_count": 2,
   "id": "6c126660",
   "metadata": {},
   "outputs": [],
   "source": [
    "# Package imports\n",
    "import itertools\n",
    "import sys\n",
    "\n",
    "# Speed performance testing\n",
    "import timeit\n",
    "\n",
    "# Unit testing\n",
    "import unittest"
   ]
  },
  {
   "cell_type": "markdown",
   "id": "ba335ac5",
   "metadata": {},
   "source": [
    "# Imperative Version (PDF)"
   ]
  },
  {
   "cell_type": "code",
   "execution_count": 3,
   "id": "82e53b9d",
   "metadata": {},
   "outputs": [],
   "source": [
    "# Defines large numbers as sys.maxsize to represent nodes with no relationship\n",
    "\n",
    "NO_PATH = sys.maxsize\n",
    "\n",
    "graph = [[0, 7, NO_PATH, 8],\n",
    "[NO_PATH, 0, 5, NO_PATH],\n",
    "[NO_PATH, NO_PATH, 0, 2],\n",
    "[NO_PATH, NO_PATH, NO_PATH, 0]]\n",
    "\n",
    "MAX_LENGTH = len(graph[0])"
   ]
  },
  {
   "cell_type": "code",
   "execution_count": 4,
   "id": "2ef5807c",
   "metadata": {},
   "outputs": [
    {
     "name": "stdout",
     "output_type": "stream",
     "text": [
      "Graph before updated distances:\n",
      " [[0, 7, 9223372036854775807, 8], [9223372036854775807, 0, 5, 9223372036854775807], [9223372036854775807, 9223372036854775807, 0, 2], [9223372036854775807, 9223372036854775807, 9223372036854775807, 0]]\n"
     ]
    }
   ],
   "source": [
    "print(f'Graph before updated distances:\\n {graph}')"
   ]
  },
  {
   "cell_type": "code",
   "execution_count": 5,
   "id": "cde3f399",
   "metadata": {
    "scrolled": true
   },
   "outputs": [],
   "source": [
    "# Imperative function to determine shortest distance between each graph node\n",
    "\n",
    "def floyd(distance):\n",
    "    \"\"\"\n",
    "    A simple implementation of Floyd's algorithm\n",
    "    \"\"\"\n",
    "    for intermediate, start_node,end_node in itertools.product(range(MAX_LENGTH),range(MAX_LENGTH), range(MAX_LENGTH)):\n",
    "    # Assume that if start_node and end_node are the same\n",
    "    # then the distance would be zero\n",
    "        if start_node == end_node:\n",
    "            distance[start_node][end_node] = 0\n",
    "            continue\n",
    "            \n",
    "        # Return all possible paths and find the minimum\n",
    "    \n",
    "        distance[start_node][end_node] = min(distance[start_node][end_node],\n",
    "        distance[start_node][intermediate] + distance[intermediate][end_node] )\n",
    "        \n",
    "        #Any value that have sys.maxsize has no path\n",
    "        \n",
    "floyd(graph)"
   ]
  },
  {
   "cell_type": "code",
   "execution_count": 6,
   "id": "866d238e",
   "metadata": {},
   "outputs": [
    {
     "name": "stdout",
     "output_type": "stream",
     "text": [
      "Graph after updated distances:\n",
      " [[0, 7, 12, 8], [9223372036854775807, 0, 5, 7], [9223372036854775807, 9223372036854775807, 0, 2], [9223372036854775807, 9223372036854775807, 9223372036854775807, 0]]\n"
     ]
    }
   ],
   "source": [
    "print(f'Graph after updated distances:\\n {graph}')"
   ]
  },
  {
   "cell_type": "markdown",
   "id": "06991d33",
   "metadata": {},
   "source": [
    "# GeeksforGeeks Version"
   ]
  },
  {
   "cell_type": "code",
   "execution_count": 7,
   "id": "3ffe8604",
   "metadata": {
    "scrolled": true
   },
   "outputs": [],
   "source": [
    "# Number of vertices in the graph\n",
    "V = 4\n",
    " \n",
    "# Define infinity as the large\n",
    "# enough value. This value will be\n",
    "# used for vertices not connected to each other\n",
    "INF = 99999\n",
    " \n",
    "# Solves all pair shortest path\n",
    "# via Floyd Warshall Algorithm\n",
    " \n",
    " \n",
    "def floydWarshall(graph):\n",
    "    \"\"\" dist[][] will be the output\n",
    "       matrix that will finally\n",
    "        have the shortest distances\n",
    "        between every pair of vertices \"\"\"\n",
    "    \"\"\" initializing the solution matrix\n",
    "    same as input graph matrix\n",
    "    OR we can say that the initial\n",
    "    values of shortest distances\n",
    "    are based on shortest paths considering no\n",
    "    intermediate vertices \"\"\"\n",
    " \n",
    "    dist = list(map(lambda i: list(map(lambda j: j, i)), graph))\n",
    " \n",
    "    \"\"\" Add all vertices one by one\n",
    "    to the set of intermediate\n",
    "     vertices.\n",
    "     ---> Before start of an iteration,\n",
    "     we have shortest distances\n",
    "     between all pairs of vertices\n",
    "     such that the shortest\n",
    "     distances consider only the\n",
    "     vertices in the set\n",
    "    {0, 1, 2, .. k-1} as intermediate vertices.\n",
    "      ----> After the end of a\n",
    "      iteration, vertex no. k is\n",
    "     added to the set of intermediate\n",
    "     vertices and the\n",
    "    set becomes {0, 1, 2, .. k}\n",
    "    \"\"\"\n",
    "    for k in range(V):\n",
    " \n",
    "        # pick all vertices as source one by one\n",
    "        for i in range(V):\n",
    " \n",
    "            # Pick all vertices as destination for the\n",
    "            # above picked source\n",
    "            for j in range(V):\n",
    " \n",
    "                # If vertex k is on the shortest path from\n",
    "                # i to j, then update the value of dist[i][j]\n",
    "                dist[i][j] = min(dist[i][j],\n",
    "                                 dist[i][k] + dist[k][j]\n",
    "                                 )\n",
    "    # printSolution(dist)\n",
    " \n",
    " \n",
    "# A utility function to print the solution\n",
    "# def printSolution(dist):\n",
    "#     print(\"Following matrix shows the shortest distances\\\n",
    "#  between every pair of vertices\")\n",
    "#     for i in range(V):\n",
    "#         for j in range(V):\n",
    "#             if(dist[i][j] == INF):\n",
    "#                 print(\"%7s\" % (\"INF\"), end=\" \")\n",
    "#             else:\n",
    "#                 print(\"%7d\\t\" % (dist[i][j]), end=' ')\n",
    "#             if j == V-1:\n",
    "#                 print()"
   ]
  },
  {
   "cell_type": "markdown",
   "id": "9182f6da",
   "metadata": {},
   "source": [
    "# Recursive Version"
   ]
  },
  {
   "cell_type": "code",
   "execution_count": 8,
   "id": "119d0585",
   "metadata": {},
   "outputs": [],
   "source": [
    "# This is a 4x4 graph that the algorithm will refer to\n",
    "# graph = [[0, 7, NO_PATH, 8],\n",
    "# [NO_PATH, 0, 5, NO_PATH],\n",
    "# [NO_PATH, NO_PATH, 0, 2],\n",
    "# [NO_PATH, NO_PATH, NO_PATH, 0]]\n",
    "\n",
    "# Recursive function to determine shortest distance between each graph node\n",
    "def floyd_recursive(graph):\n",
    "    \"\"\"\n",
    "    Function for recursive implementation of Floyd Warshall Algorithm\n",
    "    \"\"\"\n",
    "    INF = sys.maxsize\n",
    "    MAX_LENGTH = len(graph[0])\n",
    "    \n",
    "    # Creates a template distance matrix which is the same size as the input graph\n",
    "    distance = []\n",
    "    for _ in range(MAX_LENGTH):\n",
    "        distance.append([INF, INF, INF, INF])\n",
    "    \n",
    "    # Replaces the values in distance with the corresponding value in graph\n",
    "    for start_node in range(MAX_LENGTH):\n",
    "        for end_node in range(MAX_LENGTH):\n",
    "            distance[start_node][end_node] = graph[start_node][end_node]\n",
    "\n",
    "    # Checks that new graph (distance) is equal to the original graph (graph)         \n",
    "    assert distance == graph\n",
    "    \n",
    "    # Nested recursive function that enables parent function to call itself\n",
    "    def update_distances(start_node, end_node, intermediate):\n",
    "        if start_node == end_node:\n",
    "            distance[start_node][end_node] = 0\n",
    "            return\n",
    "        \n",
    "        distance[start_node][end_node] = min(distance[start_node][end_node],\n",
    "        distance[start_node][intermediate] + distance[intermediate][end_node] )\n",
    "        \n",
    "        # Updates the distance matrix by considering all possible intermediate \n",
    "        # vertices between the start node and end node\n",
    "        if intermediate > MAX_LENGTH-1:\n",
    "            update_distance(start_node, end_node, intermediate+1)\n",
    "            update_distance(start_node, intermediate, intermediate+1)\n",
    "            update_distance(intermediate, end_node, intermediate+1)\n",
    "    \n",
    "    # Itertools allows iteration through each node in one line rather than through nested for loops\n",
    "    # This loop updates the graph to represent distances\n",
    "    for intermediate, start_node, end_node in itertools.product(range(MAX_LENGTH), range(MAX_LENGTH), range(MAX_LENGTH)):\n",
    "        update_distances(start_node, end_node, intermediate)\n",
    "        \n",
    "    return distance"
   ]
  },
  {
   "cell_type": "markdown",
   "id": "94741464",
   "metadata": {},
   "source": [
    "# Performance Test"
   ]
  },
  {
   "cell_type": "code",
   "execution_count": 20,
   "id": "4b9acd42",
   "metadata": {},
   "outputs": [
    {
     "name": "stdout",
     "output_type": "stream",
     "text": [
      "The imperative version has taken 0.000059 seconds to run\n",
      "The GeeksforGeeks version has taken 0.000077 seconds to run\n",
      "The recursive version has taken 0.000088 seconds to run\n"
     ]
    }
   ],
   "source": [
    "graph = [[0, 5, INF, 10],\n",
    "         [INF, 0, 3, INF],\n",
    "         [INF, INF, 0,   1],\n",
    "         [INF, INF, INF, 0]\n",
    "         ]\n",
    "\n",
    "# Speed performance test for imperative version\n",
    "imperative_time = timeit.timeit(lambda: floyd(graph), number=1000)\n",
    "\n",
    "\n",
    "print(f\"The imperative version has taken {imperative_time/1000:.6f} seconds to run\") \n",
    "\n",
    "graph = [[0, 5, INF, 10],\n",
    "         [INF, 0, 3, INF],\n",
    "         [INF, INF, 0,   1],\n",
    "         [INF, INF, INF, 0]\n",
    "         ]\n",
    "\n",
    "# Speed performance test for GeeksforGeeks version\n",
    "geek_time = timeit.timeit(lambda: floydWarshall(graph), number=1000)\n",
    "print(f\"The GeeksforGeeks version has taken {geek_time/1000:.6f} seconds to run\")\n",
    "\n",
    "graph = [[0, 5, INF, 10],\n",
    "         [INF, 0, 3, INF],\n",
    "         [INF, INF, 0,   1],\n",
    "         [INF, INF, INF, 0]\n",
    "         ]\n",
    "\n",
    "# Speed performance test for recursive version\n",
    "recursive_time = timeit.timeit(lambda: floyd_recursive(graph), number=1000)\n",
    "print(f\"The recursive version has taken {recursive_time/1000:.6f} seconds to run\")"
   ]
  },
  {
   "cell_type": "code",
   "execution_count": 19,
   "id": "13dc4fab",
   "metadata": {},
   "outputs": [],
   "source": [
    "# Test function for final unit test\n",
    "\n",
    "def test_floyd():\n",
    "    \"\"\"\n",
    "    Function to check recursive output matches imperative graph\n",
    "    \"\"\"\n",
    "    # Imperative values will replace the values in graph 1\n",
    "    graph_1 = [[0, 7, NO_PATH, 8],\n",
    "    [NO_PATH, 0, 5, NO_PATH],\n",
    "    [NO_PATH, NO_PATH, 0, 2],\n",
    "    [NO_PATH, NO_PATH, NO_PATH, 0]]\n",
    "    \n",
    "    floyd(graph_1)\n",
    "\n",
    "    # Recursive values will output a new graph (graph 2) which will then be used to check against graph 1\n",
    "    # to confirm values are correct\n",
    "    graph_2 = [[0, 7, NO_PATH, 8],\n",
    "    [NO_PATH, 0, 5, NO_PATH],\n",
    "    [NO_PATH, NO_PATH, 0, 2],\n",
    "    [NO_PATH, NO_PATH, NO_PATH, 0]]\n",
    "    \n",
    "    # Assert is used to check graph_2 values match imperative values populated in graph_1\n",
    "    assert graph_1 == floyd_recursive(graph_2)\n",
    "\n",
    "    print('Recursive function matches imperative output')"
   ]
  },
  {
   "cell_type": "code",
   "execution_count": 13,
   "id": "aa1a1d36",
   "metadata": {
    "scrolled": false
   },
   "outputs": [
    {
     "name": "stdout",
     "output_type": "stream",
     "text": [
      "Recursive function matches imperative output\n"
     ]
    }
   ],
   "source": [
    "test_floyd()"
   ]
  },
  {
   "cell_type": "code",
   "execution_count": null,
   "id": "a989be44",
   "metadata": {},
   "outputs": [],
   "source": [
    "# Unit test class that takes in each function\n",
    "class TestPerformance(unittest.TestCase):\n",
    "\n",
    "    def floyd(self):\n",
    "        self.assertTrue([[0, 7, 12, 8], [9223372036854775807, 0, 5, 7], [9223372036854775807, 9223372036854775807, 0, 2], [9223372036854775807, 9223372036854775807, 9223372036854775807, 0]])\n",
    "        self.assertFalse(())\n",
    "\n",
    "if __name__ == '__main__':\n",
    "    unittest.main()"
   ]
  }
 ],
 "metadata": {
  "kernelspec": {
   "display_name": "Python 3 (ipykernel)",
   "language": "python",
   "name": "python3"
  },
  "language_info": {
   "codemirror_mode": {
    "name": "ipython",
    "version": 3
   },
   "file_extension": ".py",
   "mimetype": "text/x-python",
   "name": "python",
   "nbconvert_exporter": "python",
   "pygments_lexer": "ipython3",
   "version": "3.10.9"
  }
 },
 "nbformat": 4,
 "nbformat_minor": 5
}
